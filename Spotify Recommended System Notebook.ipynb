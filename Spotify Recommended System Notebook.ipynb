{
 "cells": [
  {
   "cell_type": "markdown",
   "id": "a41953ed-ff55-4093-86b6-66f464c7ced0",
   "metadata": {},
   "source": [
    "# Spotify Recommendation System\n",
    "\n",
    "# Introduction\n",
    "\n",
    "Here, I'm introducing my project where I aim to build a Spotify Recommendation System based on song lyrics. It's an exciting challenge that combines my interest of data science with Machine Learning. \n",
    "\n",
    "Below is an image that visualizes my Spotify Recommendation System that I have built so far. \n",
    "\n",
    "![My Spotify Recomendation System](img.png)\n"
   ]
  },
  {
   "cell_type": "code",
   "execution_count": 55,
   "id": "8d8eb817-1e36-4b56-8277-df7d81eaa969",
   "metadata": {},
   "outputs": [],
   "source": [
    "# Import the necessary library\n",
    "import pandas as pd  # I chose pandas for its powerful data manipulation capabilities\n",
    "\n",
    "# Read the dataset\n",
    "df = pd.read_csv(\"spotify_millsongdata.csv\")\n",
    "# This line loads the Spotify Million Song Dataset into a DataFrame for analysis\n"
   ]
  },
  {
   "cell_type": "markdown",
   "id": "e08b25e4",
   "metadata": {},
   "source": [
    "## Dataset Overview\n",
    "\n",
    "Embarking on this journey, the first step is to familiarize myself with the terrain—the dataset. It's akin to understanding the pieces of a puzzle before starting to put them together. This dataset isn't just numbers and text; it's the backbone of my Spotify Recommendation System. By examining the first and last entries, assessing the dataset's shape, and scouring for any missing values, I gain valuable insights into the data's structure and quality. This foundational knowledge is critical as I move forward with cleaning and processing the data for my recommendation model.\n",
    "\n",
    "**Data Source Acknowledgment:**\n",
    "My exploration is powered by the Spotify Million Song Dataset, available on Kaggle. This comprehensive collection of song metadata and features serves as the starting point for my project, offering a deep well of information to draw from. For those interested in the depth and breadth of music data available, I highly recommend checking out this dataset. [Explore the Spotify Million Song Dataset on Kaggle](https://www.kaggle.com/datasets/notshrirang/spotify-million-song-dataset).\n"
   ]
  },
  {
   "cell_type": "markdown",
   "id": "9b38d74b",
   "metadata": {},
   "source": [
    "## Data Understanding\n"
   ]
  },
  {
   "cell_type": "code",
   "execution_count": 56,
   "id": "6698f7a6-7a19-44dd-b31c-9cf7b07fa22d",
   "metadata": {},
   "outputs": [
    {
     "data": {
      "text/html": [
       "<div>\n",
       "<style scoped>\n",
       "    .dataframe tbody tr th:only-of-type {\n",
       "        vertical-align: middle;\n",
       "    }\n",
       "\n",
       "    .dataframe tbody tr th {\n",
       "        vertical-align: top;\n",
       "    }\n",
       "\n",
       "    .dataframe thead th {\n",
       "        text-align: right;\n",
       "    }\n",
       "</style>\n",
       "<table border=\"1\" class=\"dataframe\">\n",
       "  <thead>\n",
       "    <tr style=\"text-align: right;\">\n",
       "      <th></th>\n",
       "      <th>artist</th>\n",
       "      <th>song</th>\n",
       "      <th>link</th>\n",
       "      <th>text</th>\n",
       "    </tr>\n",
       "  </thead>\n",
       "  <tbody>\n",
       "    <tr>\n",
       "      <th>0</th>\n",
       "      <td>ABBA</td>\n",
       "      <td>Ahe's My Kind Of Girl</td>\n",
       "      <td>/a/abba/ahes+my+kind+of+girl_20598417.html</td>\n",
       "      <td>Look at her face, it's a wonderful face  \\r\\nA...</td>\n",
       "    </tr>\n",
       "    <tr>\n",
       "      <th>1</th>\n",
       "      <td>ABBA</td>\n",
       "      <td>Andante, Andante</td>\n",
       "      <td>/a/abba/andante+andante_20002708.html</td>\n",
       "      <td>Take it easy with me, please  \\r\\nTouch me gen...</td>\n",
       "    </tr>\n",
       "    <tr>\n",
       "      <th>2</th>\n",
       "      <td>ABBA</td>\n",
       "      <td>As Good As New</td>\n",
       "      <td>/a/abba/as+good+as+new_20003033.html</td>\n",
       "      <td>I'll never know why I had to go  \\r\\nWhy I had...</td>\n",
       "    </tr>\n",
       "    <tr>\n",
       "      <th>3</th>\n",
       "      <td>ABBA</td>\n",
       "      <td>Bang</td>\n",
       "      <td>/a/abba/bang_20598415.html</td>\n",
       "      <td>Making somebody happy is a question of give an...</td>\n",
       "    </tr>\n",
       "    <tr>\n",
       "      <th>4</th>\n",
       "      <td>ABBA</td>\n",
       "      <td>Bang-A-Boomerang</td>\n",
       "      <td>/a/abba/bang+a+boomerang_20002668.html</td>\n",
       "      <td>Making somebody happy is a question of give an...</td>\n",
       "    </tr>\n",
       "  </tbody>\n",
       "</table>\n",
       "</div>"
      ],
      "text/plain": [
       "  artist                   song                                        link  \\\n",
       "0   ABBA  Ahe's My Kind Of Girl  /a/abba/ahes+my+kind+of+girl_20598417.html   \n",
       "1   ABBA       Andante, Andante       /a/abba/andante+andante_20002708.html   \n",
       "2   ABBA         As Good As New        /a/abba/as+good+as+new_20003033.html   \n",
       "3   ABBA                   Bang                  /a/abba/bang_20598415.html   \n",
       "4   ABBA       Bang-A-Boomerang      /a/abba/bang+a+boomerang_20002668.html   \n",
       "\n",
       "                                                text  \n",
       "0  Look at her face, it's a wonderful face  \\r\\nA...  \n",
       "1  Take it easy with me, please  \\r\\nTouch me gen...  \n",
       "2  I'll never know why I had to go  \\r\\nWhy I had...  \n",
       "3  Making somebody happy is a question of give an...  \n",
       "4  Making somebody happy is a question of give an...  "
      ]
     },
     "execution_count": 56,
     "metadata": {},
     "output_type": "execute_result"
    }
   ],
   "source": [
    "# Displaying the first few rows to get a feel for the data structure\n",
    "df.head(5)"
   ]
  },
  {
   "cell_type": "code",
   "execution_count": 57,
   "id": "1e0504e5-6b76-44b1-a898-162ce1cae3ff",
   "metadata": {},
   "outputs": [
    {
     "data": {
      "text/html": [
       "<div>\n",
       "<style scoped>\n",
       "    .dataframe tbody tr th:only-of-type {\n",
       "        vertical-align: middle;\n",
       "    }\n",
       "\n",
       "    .dataframe tbody tr th {\n",
       "        vertical-align: top;\n",
       "    }\n",
       "\n",
       "    .dataframe thead th {\n",
       "        text-align: right;\n",
       "    }\n",
       "</style>\n",
       "<table border=\"1\" class=\"dataframe\">\n",
       "  <thead>\n",
       "    <tr style=\"text-align: right;\">\n",
       "      <th></th>\n",
       "      <th>artist</th>\n",
       "      <th>song</th>\n",
       "      <th>link</th>\n",
       "      <th>text</th>\n",
       "    </tr>\n",
       "  </thead>\n",
       "  <tbody>\n",
       "    <tr>\n",
       "      <th>57645</th>\n",
       "      <td>Ziggy Marley</td>\n",
       "      <td>Good Old Days</td>\n",
       "      <td>/z/ziggy+marley/good+old+days_10198588.html</td>\n",
       "      <td>Irie days come on play  \\r\\nLet the angels fly...</td>\n",
       "    </tr>\n",
       "    <tr>\n",
       "      <th>57646</th>\n",
       "      <td>Ziggy Marley</td>\n",
       "      <td>Hand To Mouth</td>\n",
       "      <td>/z/ziggy+marley/hand+to+mouth_20531167.html</td>\n",
       "      <td>Power to the workers  \\r\\nMore power  \\r\\nPowe...</td>\n",
       "    </tr>\n",
       "    <tr>\n",
       "      <th>57647</th>\n",
       "      <td>Zwan</td>\n",
       "      <td>Come With Me</td>\n",
       "      <td>/z/zwan/come+with+me_20148981.html</td>\n",
       "      <td>all you need  \\r\\nis something i'll believe  \\...</td>\n",
       "    </tr>\n",
       "    <tr>\n",
       "      <th>57648</th>\n",
       "      <td>Zwan</td>\n",
       "      <td>Desire</td>\n",
       "      <td>/z/zwan/desire_20148986.html</td>\n",
       "      <td>northern star  \\r\\nam i frightened  \\r\\nwhere ...</td>\n",
       "    </tr>\n",
       "    <tr>\n",
       "      <th>57649</th>\n",
       "      <td>Zwan</td>\n",
       "      <td>Heartsong</td>\n",
       "      <td>/z/zwan/heartsong_20148991.html</td>\n",
       "      <td>come in  \\r\\nmake yourself at home  \\r\\ni'm a ...</td>\n",
       "    </tr>\n",
       "  </tbody>\n",
       "</table>\n",
       "</div>"
      ],
      "text/plain": [
       "             artist           song  \\\n",
       "57645  Ziggy Marley  Good Old Days   \n",
       "57646  Ziggy Marley  Hand To Mouth   \n",
       "57647          Zwan   Come With Me   \n",
       "57648          Zwan         Desire   \n",
       "57649          Zwan      Heartsong   \n",
       "\n",
       "                                              link  \\\n",
       "57645  /z/ziggy+marley/good+old+days_10198588.html   \n",
       "57646  /z/ziggy+marley/hand+to+mouth_20531167.html   \n",
       "57647           /z/zwan/come+with+me_20148981.html   \n",
       "57648                 /z/zwan/desire_20148986.html   \n",
       "57649              /z/zwan/heartsong_20148991.html   \n",
       "\n",
       "                                                    text  \n",
       "57645  Irie days come on play  \\r\\nLet the angels fly...  \n",
       "57646  Power to the workers  \\r\\nMore power  \\r\\nPowe...  \n",
       "57647  all you need  \\r\\nis something i'll believe  \\...  \n",
       "57648  northern star  \\r\\nam i frightened  \\r\\nwhere ...  \n",
       "57649  come in  \\r\\nmake yourself at home  \\r\\ni'm a ...  "
      ]
     },
     "execution_count": 57,
     "metadata": {},
     "output_type": "execute_result"
    }
   ],
   "source": [
    "# Checking the last few rows to see the data's end\n",
    "df.tail(5)"
   ]
  },
  {
   "cell_type": "code",
   "execution_count": 58,
   "id": "52fb4db0-1bf8-4fd0-9ebe-bc33e8741cd7",
   "metadata": {},
   "outputs": [
    {
     "data": {
      "text/plain": [
       "(57650, 4)"
      ]
     },
     "execution_count": 58,
     "metadata": {},
     "output_type": "execute_result"
    }
   ],
   "source": [
    "# Understanding the size of my dataset\n",
    "df.shape"
   ]
  },
  {
   "cell_type": "code",
   "execution_count": 59,
   "id": "e6db3790-47f2-46e7-b6ff-8a7ef8453241",
   "metadata": {},
   "outputs": [
    {
     "data": {
      "text/plain": [
       "artist    0\n",
       "song      0\n",
       "link      0\n",
       "text      0\n",
       "dtype: int64"
      ]
     },
     "execution_count": 59,
     "metadata": {},
     "output_type": "execute_result"
    }
   ],
   "source": [
    "# Identifying if there are any missing values I need to deal with\n",
    "df.isnull().sum()"
   ]
  },
  {
   "cell_type": "markdown",
   "id": "ee8bdefc",
   "metadata": {},
   "source": [
    "## Data Cleaning & Processing\n",
    "\n",
    "Here, I'm cleaning and processing the data to prepare it for analysis. This includes dropping unnecessary columns, sampling the dataset for manageability, and cleaning the text data."
   ]
  },
  {
   "cell_type": "code",
   "execution_count": 60,
   "id": "2d7a5c93-6156-40f9-a80a-e72a901b019f",
   "metadata": {},
   "outputs": [],
   "source": [
    "# Dropping unnecessary 'link' column and sampling the dataset due my low GPU Processing Time!\n",
    "df = df.sample(5000).drop(\"link\", axis=True).reset_index(drop=True)\n"
   ]
  },
  {
   "cell_type": "code",
   "execution_count": 61,
   "id": "2503069a-c248-4557-9de6-1175e406e5f3",
   "metadata": {},
   "outputs": [
    {
     "data": {
      "text/html": [
       "<div>\n",
       "<style scoped>\n",
       "    .dataframe tbody tr th:only-of-type {\n",
       "        vertical-align: middle;\n",
       "    }\n",
       "\n",
       "    .dataframe tbody tr th {\n",
       "        vertical-align: top;\n",
       "    }\n",
       "\n",
       "    .dataframe thead th {\n",
       "        text-align: right;\n",
       "    }\n",
       "</style>\n",
       "<table border=\"1\" class=\"dataframe\">\n",
       "  <thead>\n",
       "    <tr style=\"text-align: right;\">\n",
       "      <th></th>\n",
       "      <th>artist</th>\n",
       "      <th>song</th>\n",
       "      <th>text</th>\n",
       "    </tr>\n",
       "  </thead>\n",
       "  <tbody>\n",
       "    <tr>\n",
       "      <th>0</th>\n",
       "      <td>Ian Hunter</td>\n",
       "      <td>Rape</td>\n",
       "      <td>He searched through his love like a thief on t...</td>\n",
       "    </tr>\n",
       "    <tr>\n",
       "      <th>1</th>\n",
       "      <td>Morrissey</td>\n",
       "      <td>Let Me Kiss You</td>\n",
       "      <td>There's a place in the sun,  \\r\\nFor anyone wh...</td>\n",
       "    </tr>\n",
       "    <tr>\n",
       "      <th>2</th>\n",
       "      <td>'n Sync</td>\n",
       "      <td>Kiss Me At Midnight</td>\n",
       "      <td>Kiss me at midnight  \\r\\n5...4...3...2...1  \\r...</td>\n",
       "    </tr>\n",
       "    <tr>\n",
       "      <th>3</th>\n",
       "      <td>Nat King Cole</td>\n",
       "      <td>Let True Love Begin</td>\n",
       "      <td>When you're young  \\r\\nYou're afraid of the da...</td>\n",
       "    </tr>\n",
       "    <tr>\n",
       "      <th>4</th>\n",
       "      <td>Leann Rimes</td>\n",
       "      <td>Why Can't We</td>\n",
       "      <td>Look how the wind carries the sea  \\r\\nAnd see...</td>\n",
       "    </tr>\n",
       "  </tbody>\n",
       "</table>\n",
       "</div>"
      ],
      "text/plain": [
       "          artist                 song  \\\n",
       "0     Ian Hunter                 Rape   \n",
       "1      Morrissey      Let Me Kiss You   \n",
       "2        'n Sync  Kiss Me At Midnight   \n",
       "3  Nat King Cole  Let True Love Begin   \n",
       "4    Leann Rimes         Why Can't We   \n",
       "\n",
       "                                                text  \n",
       "0  He searched through his love like a thief on t...  \n",
       "1  There's a place in the sun,  \\r\\nFor anyone wh...  \n",
       "2  Kiss me at midnight  \\r\\n5...4...3...2...1  \\r...  \n",
       "3  When you're young  \\r\\nYou're afraid of the da...  \n",
       "4  Look how the wind carries the sea  \\r\\nAnd see...  "
      ]
     },
     "execution_count": 61,
     "metadata": {},
     "output_type": "execute_result"
    }
   ],
   "source": [
    "# Quick check to ensure the data looks good after initial cleaning\n",
    "df.head(5)"
   ]
  },
  {
   "cell_type": "code",
   "execution_count": 62,
   "id": "310b51bc-8a4d-433c-bfd5-a6109ef051f2",
   "metadata": {},
   "outputs": [
    {
     "data": {
      "text/plain": [
       "'He searched through his love like a thief on the run  \\r\\nHe searched through his face - to see the guilt water run  \\r\\nBut he\\'s fresh out of tears and nobody has come  \\r\\nAnd justice has got to be done  \\r\\n  \\r\\nOh moon in the city stay open and clear  \\r\\nFor his vision ain\\'t good and his mind\\'s disappeared  \\r\\n\"get along mother nature\" they spat at your son  \\r\\nSo justice has got to be done  \\r\\n  \\r\\nAnd beauty is lying alone in the park  \\r\\nHer friend has gone bowling in the alleys so dark  \\r\\nWhere\\'s her knight in white armor who rides a chrome ford  \\r\\nJustice would seem to be bored  \\r\\nJustice would seem to be bored  \\r\\n  \\r\\nA knife full of life penetrated the bait  \\r\\nWhile he thinks \\'o the sister and the mother that he hates  \\r\\nAnd he thinks he\\'ll get off \\'\\'cause he\\'s sick, and stoned  \\r\\nAnd justice was made to be honed  \\r\\nAnd justice was made to be honed  \\r\\n  \\r\\nAnd his lawyer is smiling one hell of a smile  \\r\\n\\'n he\\'s lying all the lies - of the lies in exile  \\r\\nWhile she\\'s dying of grief he\\'s defending his brief  \\r\\nAnd justice would seem to be cheap  \\r\\nAnd justice would seem to be cheap  \\r\\n  \\r\\nWell I\\'ve searched through the falling, and I searched through the failed  \\r\\nI\\'ve searched through the jury - the judge and the jailed  \\r\\nBut sleeping beauty is dead no use pricking her thumb  \\r\\nAnd justice has got to be done  \\r\\n  \\r\\nJustice just is - justice just is - justice just is - not!\\r\\n\\r\\n'"
      ]
     },
     "execution_count": 62,
     "metadata": {},
     "output_type": "execute_result"
    }
   ],
   "source": [
    "# Look at the lyrics of the first song in my dataset\n",
    "df[\"text\"][0]"
   ]
  },
  {
   "cell_type": "code",
   "execution_count": 63,
   "id": "5f409a5c-306c-46e4-abdc-63f2f7c56667",
   "metadata": {},
   "outputs": [
    {
     "data": {
      "text/plain": [
       "(5000, 3)"
      ]
     },
     "execution_count": 63,
     "metadata": {},
     "output_type": "execute_result"
    }
   ],
   "source": [
    "# Confirming the dataset size after my processing\n",
    "df.shape"
   ]
  },
  {
   "cell_type": "code",
   "execution_count": 64,
   "id": "25db7b93-ff36-4b50-99ff-8f94f27354c2",
   "metadata": {},
   "outputs": [],
   "source": [
    "# My initial cleaning approach\n",
    "# df[\"text\"].str.lower().replace(r\"^a-ZA-Z-09\", \"\") \n",
    "\n",
    "# Cleaning the 'text' column to ensure consistency in my analysis\n",
    "df[\"text\"] = df[\"text\"].str.lower().replace(r\"^\\w\\s\", \"\").replace(r\"\\n\", \"\", regex=True)\n",
    "\n",
    "# Stackflow "
   ]
  },
  {
   "cell_type": "code",
   "execution_count": 65,
   "id": "09dec0e5-ebbb-4171-94b4-6bba8a824987",
   "metadata": {},
   "outputs": [
    {
     "data": {
      "text/html": [
       "<div>\n",
       "<style scoped>\n",
       "    .dataframe tbody tr th:only-of-type {\n",
       "        vertical-align: middle;\n",
       "    }\n",
       "\n",
       "    .dataframe tbody tr th {\n",
       "        vertical-align: top;\n",
       "    }\n",
       "\n",
       "    .dataframe thead th {\n",
       "        text-align: right;\n",
       "    }\n",
       "</style>\n",
       "<table border=\"1\" class=\"dataframe\">\n",
       "  <thead>\n",
       "    <tr style=\"text-align: right;\">\n",
       "      <th></th>\n",
       "      <th>artist</th>\n",
       "      <th>song</th>\n",
       "      <th>text</th>\n",
       "    </tr>\n",
       "  </thead>\n",
       "  <tbody>\n",
       "    <tr>\n",
       "      <th>4995</th>\n",
       "      <td>Def Leppard</td>\n",
       "      <td>Ring Of Fire</td>\n",
       "      <td>fun girl, you tempted me, a feast of sparks  \\...</td>\n",
       "    </tr>\n",
       "    <tr>\n",
       "      <th>4996</th>\n",
       "      <td>Wanda Jackson</td>\n",
       "      <td>I've Gotta Sing</td>\n",
       "      <td>the sun's shining beautiful and everything is ...</td>\n",
       "    </tr>\n",
       "    <tr>\n",
       "      <th>4997</th>\n",
       "      <td>Elton John</td>\n",
       "      <td>Come And Get It</td>\n",
       "      <td>if you want it, here it is, come and get it  \\...</td>\n",
       "    </tr>\n",
       "    <tr>\n",
       "      <th>4998</th>\n",
       "      <td>Linda Ronstadt</td>\n",
       "      <td>It's So Easy</td>\n",
       "      <td>it's so easy to fall in love  \\rit's so easy t...</td>\n",
       "    </tr>\n",
       "    <tr>\n",
       "      <th>4999</th>\n",
       "      <td>Tracy Chapman</td>\n",
       "      <td>A Hundred Years</td>\n",
       "      <td>baby sweet baby  \\rwon't you please  \\rcome on...</td>\n",
       "    </tr>\n",
       "  </tbody>\n",
       "</table>\n",
       "</div>"
      ],
      "text/plain": [
       "              artist             song  \\\n",
       "4995     Def Leppard     Ring Of Fire   \n",
       "4996   Wanda Jackson  I've Gotta Sing   \n",
       "4997      Elton John  Come And Get It   \n",
       "4998  Linda Ronstadt     It's So Easy   \n",
       "4999   Tracy Chapman  A Hundred Years   \n",
       "\n",
       "                                                   text  \n",
       "4995  fun girl, you tempted me, a feast of sparks  \\...  \n",
       "4996  the sun's shining beautiful and everything is ...  \n",
       "4997  if you want it, here it is, come and get it  \\...  \n",
       "4998  it's so easy to fall in love  \\rit's so easy t...  \n",
       "4999  baby sweet baby  \\rwon't you please  \\rcome on...  "
      ]
     },
     "execution_count": 65,
     "metadata": {},
     "output_type": "execute_result"
    }
   ],
   "source": [
    "# Final check at the tail of the dataset to confirm text cleaning\n",
    "df.tail(5)"
   ]
  },
  {
   "cell_type": "markdown",
   "id": "8cdb7be0",
   "metadata": {},
   "source": [
    "## Machine Learning Model (NLP)\n",
    "\n",
    "I'm exploring the realm of Natural Language Processing (NLP) to delve deep into the lyrics, employing techniques such as tokenization and stemming to refine the text for our machine learning model. To ensure a solid foundation for these techniques, I've leveraged insightful resources from Kaggle, particularly focusing on topic modeling with LDA as a precursor to my model development. This resource has been instrumental in shaping my approach to handling and analyzing textual data, providing a comprehensive understanding of NLP's potential within machine learning frameworks.\n",
    "\n",
    "**Inspiration and Learning Resource:**\n",
    "- For an in-depth exploration of NLP and topic modeling, I found Samuel Cortinhas' Kaggle Notebook on Topic Modelling with LDA extremely helpful. It's a must-read for anyone looking to grasp the intricacies of NLP in a machine learning context. [Explore the Kaggle Notebook](https://www.kaggle.com/code/samuelcortinhas/nlp6-topic-modelling-with-lda).\n",
    "\n"
   ]
  },
  {
   "cell_type": "code",
   "execution_count": 66,
   "id": "b490a248",
   "metadata": {},
   "outputs": [],
   "source": [
    "# At first I had to download the 'punkt' module\n",
    "# nltk.download('punkt')\n",
    "\n",
    "# Then I'm going to import the NLTK for text processing\n",
    "import nltk\n",
    "from nltk.stem.porter import PorterStemmer\n",
    "\n",
    "# Initializing the stemmer to condense words to their roots\n",
    "stemmer = PorterStemmer()"
   ]
  },
  {
   "cell_type": "markdown",
   "id": "05db8ad2",
   "metadata": {},
   "source": [
    "In the development of the following sections, especially those involving natural language processing (NLP), I've drawn inspiration and borrowed code snippets from the official NLTK documentation and its GitHub repository. These resources have been invaluable in understanding the intricacies of text processing and analysis. \n",
    "\n",
    "Additionally, my approach to tokenization was significantly influenced by a comprehensive Kaggle notebook on the topic. This notebook provided a practical and in-depth look at tokenization, which is a fundamental step in NLP. You can find these resources at:\n",
    "\n",
    "- NLTK Documentation: [NLTK GitHub](https://github.com/nltk/nltk)\n",
    "- Tokenization Techniques: [Kaggle Notebook on NLP Tokenization by Samuel Cortinhas](https://www.kaggle.com/code/samuelcortinhas/nlp1-tokenization)\n"
   ]
  },
  {
   "cell_type": "code",
   "execution_count": 67,
   "id": "1e1f1d91",
   "metadata": {},
   "outputs": [],
   "source": [
    "# Defining my own function to tokenize and stem the song lyrics\n",
    "def token(txt):\n",
    "    token = nltk.word_tokenize(txt)\n",
    "    a = [stemmer.stem(w) for w in token]\n",
    "    return \" \".join(a)"
   ]
  },
  {
   "cell_type": "code",
   "execution_count": 68,
   "id": "ad382c33",
   "metadata": {},
   "outputs": [
    {
     "data": {
      "text/plain": [
       "'you are beauti , beauti'"
      ]
     },
     "execution_count": 68,
     "metadata": {},
     "output_type": "execute_result"
    }
   ],
   "source": [
    "# Testing out my tokenization and stemming on a simple sentence\n",
    "token(\"you are beautiful, beauty\")"
   ]
  },
  {
   "cell_type": "code",
   "execution_count": 69,
   "id": "266a8efc",
   "metadata": {},
   "outputs": [
    {
     "data": {
      "text/plain": [
       "0       he search through hi love like a thief on the ...\n",
       "1       there 's a place in the sun , for anyon who ha...\n",
       "2       kiss me at midnight 5 ... 4 ... 3 ... 2 ... 1 ...\n",
       "3       when you 're young you 're afraid of the dark ...\n",
       "4       look how the wind carri the sea and see how th...\n",
       "                              ...                        \n",
       "4995    fun girl , you tempt me , a feast of spark in ...\n",
       "4996    the sun 's shine beauti and everyth is go my w...\n",
       "4997    if you want it , here it is , come and get it ...\n",
       "4998    it 's so easi to fall in love it 's so easi to...\n",
       "4999    babi sweet babi wo n't you pleas come on back ...\n",
       "Name: text, Length: 5000, dtype: object"
      ]
     },
     "execution_count": 69,
     "metadata": {},
     "output_type": "execute_result"
    }
   ],
   "source": [
    "# Applying my function to all the song lyrics in the dataset\n",
    "df[\"text\"].apply(lambda x: token(x))"
   ]
  },
  {
   "cell_type": "code",
   "execution_count": 70,
   "id": "a00f3741",
   "metadata": {},
   "outputs": [
    {
     "data": {
      "text/html": [
       "<style>#sk-container-id-3 {color: black;}#sk-container-id-3 pre{padding: 0;}#sk-container-id-3 div.sk-toggleable {background-color: white;}#sk-container-id-3 label.sk-toggleable__label {cursor: pointer;display: block;width: 100%;margin-bottom: 0;padding: 0.3em;box-sizing: border-box;text-align: center;}#sk-container-id-3 label.sk-toggleable__label-arrow:before {content: \"▸\";float: left;margin-right: 0.25em;color: #696969;}#sk-container-id-3 label.sk-toggleable__label-arrow:hover:before {color: black;}#sk-container-id-3 div.sk-estimator:hover label.sk-toggleable__label-arrow:before {color: black;}#sk-container-id-3 div.sk-toggleable__content {max-height: 0;max-width: 0;overflow: hidden;text-align: left;background-color: #f0f8ff;}#sk-container-id-3 div.sk-toggleable__content pre {margin: 0.2em;color: black;border-radius: 0.25em;background-color: #f0f8ff;}#sk-container-id-3 input.sk-toggleable__control:checked~div.sk-toggleable__content {max-height: 200px;max-width: 100%;overflow: auto;}#sk-container-id-3 input.sk-toggleable__control:checked~label.sk-toggleable__label-arrow:before {content: \"▾\";}#sk-container-id-3 div.sk-estimator input.sk-toggleable__control:checked~label.sk-toggleable__label {background-color: #d4ebff;}#sk-container-id-3 div.sk-label input.sk-toggleable__control:checked~label.sk-toggleable__label {background-color: #d4ebff;}#sk-container-id-3 input.sk-hidden--visually {border: 0;clip: rect(1px 1px 1px 1px);clip: rect(1px, 1px, 1px, 1px);height: 1px;margin: -1px;overflow: hidden;padding: 0;position: absolute;width: 1px;}#sk-container-id-3 div.sk-estimator {font-family: monospace;background-color: #f0f8ff;border: 1px dotted black;border-radius: 0.25em;box-sizing: border-box;margin-bottom: 0.5em;}#sk-container-id-3 div.sk-estimator:hover {background-color: #d4ebff;}#sk-container-id-3 div.sk-parallel-item::after {content: \"\";width: 100%;border-bottom: 1px solid gray;flex-grow: 1;}#sk-container-id-3 div.sk-label:hover label.sk-toggleable__label {background-color: #d4ebff;}#sk-container-id-3 div.sk-serial::before {content: \"\";position: absolute;border-left: 1px solid gray;box-sizing: border-box;top: 0;bottom: 0;left: 50%;z-index: 0;}#sk-container-id-3 div.sk-serial {display: flex;flex-direction: column;align-items: center;background-color: white;padding-right: 0.2em;padding-left: 0.2em;position: relative;}#sk-container-id-3 div.sk-item {position: relative;z-index: 1;}#sk-container-id-3 div.sk-parallel {display: flex;align-items: stretch;justify-content: center;background-color: white;position: relative;}#sk-container-id-3 div.sk-item::before, #sk-container-id-3 div.sk-parallel-item::before {content: \"\";position: absolute;border-left: 1px solid gray;box-sizing: border-box;top: 0;bottom: 0;left: 50%;z-index: -1;}#sk-container-id-3 div.sk-parallel-item {display: flex;flex-direction: column;z-index: 1;position: relative;background-color: white;}#sk-container-id-3 div.sk-parallel-item:first-child::after {align-self: flex-end;width: 50%;}#sk-container-id-3 div.sk-parallel-item:last-child::after {align-self: flex-start;width: 50%;}#sk-container-id-3 div.sk-parallel-item:only-child::after {width: 0;}#sk-container-id-3 div.sk-dashed-wrapped {border: 1px dashed gray;margin: 0 0.4em 0.5em 0.4em;box-sizing: border-box;padding-bottom: 0.4em;background-color: white;}#sk-container-id-3 div.sk-label label {font-family: monospace;font-weight: bold;display: inline-block;line-height: 1.2em;}#sk-container-id-3 div.sk-label-container {text-align: center;}#sk-container-id-3 div.sk-container {/* jupyter's `normalize.less` sets `[hidden] { display: none; }` but bootstrap.min.css set `[hidden] { display: none !important; }` so we also need the `!important` here to be able to override the default hidden behavior on the sphinx rendered scikit-learn.org. See: https://github.com/scikit-learn/scikit-learn/issues/21755 */display: inline-block !important;position: relative;}#sk-container-id-3 div.sk-text-repr-fallback {display: none;}</style><div id=\"sk-container-id-3\" class=\"sk-top-container\"><div class=\"sk-text-repr-fallback\"><pre>TfidfVectorizer(stop_words=&#x27;english&#x27;)</pre><b>In a Jupyter environment, please rerun this cell to show the HTML representation or trust the notebook. <br />On GitHub, the HTML representation is unable to render, please try loading this page with nbviewer.org.</b></div><div class=\"sk-container\" hidden><div class=\"sk-item\"><div class=\"sk-estimator sk-toggleable\"><input class=\"sk-toggleable__control sk-hidden--visually\" id=\"sk-estimator-id-3\" type=\"checkbox\" checked><label for=\"sk-estimator-id-3\" class=\"sk-toggleable__label sk-toggleable__label-arrow\">TfidfVectorizer</label><div class=\"sk-toggleable__content\"><pre>TfidfVectorizer(stop_words=&#x27;english&#x27;)</pre></div></div></div></div></div>"
      ],
      "text/plain": [
       "TfidfVectorizer(stop_words='english')"
      ]
     },
     "execution_count": 70,
     "metadata": {},
     "output_type": "execute_result"
    }
   ],
   "source": [
    "# Preparing the text data for similarity analysis with TF-IDF and Cosine Similarity\n",
    "from sklearn.feature_extraction.text import TfidfVectorizer\n",
    "from sklearn.metrics.pairwise import cosine_similarity\\\n",
    "\n",
    "# TF-IDF Vectorizer will help me transform the text into a meaningful vector of numbers\n",
    "tfid = TfidfVectorizer(analyzer=\"word\", stop_words=\"english\")\n",
    "tfid"
   ]
  },
  {
   "cell_type": "code",
   "execution_count": 71,
   "id": "1a60e173",
   "metadata": {},
   "outputs": [
    {
     "data": {
      "text/plain": [
       "<5000x23629 sparse matrix of type '<class 'numpy.float64'>'\n",
       "\twith 267093 stored elements in Compressed Sparse Row format>"
      ]
     },
     "execution_count": 71,
     "metadata": {},
     "output_type": "execute_result"
    }
   ],
   "source": [
    "# This is where the magic happens, transforming the 'text' column\n",
    "matrix = tfid.fit_transform(df[\"text\"])\n",
    "matrix"
   ]
  },
  {
   "cell_type": "code",
   "execution_count": 72,
   "id": "9caaca2f",
   "metadata": {},
   "outputs": [
    {
     "data": {
      "text/plain": [
       "array([1.        , 0.01685246, 0.00627201, ..., 0.0115705 , 0.00721461,\n",
       "       0.01882653])"
      ]
     },
     "execution_count": 72,
     "metadata": {},
     "output_type": "execute_result"
    }
   ],
   "source": [
    "# Calculating the similarity between songs based on their lyrics\n",
    "similar = cosine_similarity(matrix)\n",
    "\n",
    "# Quick check on how similar the first song is to the rest\n",
    "similar[0]"
   ]
  },
  {
   "cell_type": "markdown",
   "id": "f5494697",
   "metadata": {},
   "source": [
    "After computing the TF-IDF matrix, I use cosine similarity to measure the similarity between song lyrics. Cosine similarity is a metric used to determine how similar the documents are irrespective of their size. Mathematically, it measures the cosine of the angle between two vectors projected in a multi-dimensional space. In the context of text analysis, these vectors represent the TF-IDF scores of two documents.\n",
    "\n",
    "The cosine similarity is advantageous because even if two similar documents are far apart by the Euclidean distance (due to the size of the document), they could still be oriented closer together. The smaller the angle, the higher the cosine similarity.\n",
    "\n",
    "- When the angle is 0°, the cosine similarity is 1, indicating that the vectors are identical.\n",
    "- When the angle is 90°, the cosine similarity is 0, suggesting the vectors are orthogonal or independent.\n",
    "- When the angle is 180°, the cosine similarity is -1, indicating that the vectors are diametrically opposed.\n",
    "\n",
    "Here's an illustration that visually encapsulates this concept:\n",
    "\n",
    "![Cosine Similarity Explanation](img2.jpg)\n",
    "\n",
    "From this concept, I've learned a key aspect of how algorithms interpret the 'similarity' between different pieces of text. This understanding is crucial for the next steps in my recommendation system, as it allows me to rank songs by their lyrical similarity and recommend songs that share a similar thematic presence or lyrical structure to the user.\n"
   ]
  },
  {
   "cell_type": "code",
   "execution_count": 74,
   "id": "d201e109",
   "metadata": {},
   "outputs": [
    {
     "data": {
      "text/plain": [
       "4997"
      ]
     },
     "execution_count": 74,
     "metadata": {},
     "output_type": "execute_result"
    }
   ],
   "source": [
    "# Finding a song by name in my dataset\n",
    "df[df[\"song\"] == \"Come And Get It\"].index[0]"
   ]
  },
  {
   "cell_type": "markdown",
   "id": "cf9b3c92",
   "metadata": {},
   "source": [
    "## Spotify Recommendation Function\n",
    "\n",
    "I'm wrapping up with one of the most crucial parts: the recommendation function. This function will take a song name as input and return a list of recommended songs based on their lyrics' similarity. "
   ]
  },
  {
   "cell_type": "code",
   "execution_count": 76,
   "id": "122165cc",
   "metadata": {},
   "outputs": [
    {
     "data": {
      "text/plain": [
       "['Driving Too Fast',\n",
       " 'Hold Fast To The Right',\n",
       " 'Fast Car',\n",
       " 'Boom Boom Mancini',\n",
       " \"Goin' Down Slow\"]"
      ]
     },
     "execution_count": 76,
     "metadata": {},
     "output_type": "execute_result"
    }
   ],
   "source": [
    "# Defining the function for my Spotify Recommendation System.\n",
    "def recommender(song_name):\n",
    "    # First, finds the index of the song in the DataFrame. This is like finding the song's unique address in my list.\n",
    "    idx = df[df[\"song\"] == song_name].index[0]\n",
    "    # Next, I retrieve the similarity scores for the song from the cosine similarity matrix as explained above.\n",
    "    # These scores will tell me how 'close' or 'far' each song is from my song of interest in terms of lyrics! \n",
    "    distance = sorted(list(enumerate(similar[idx])), reverse=True, key=lambda x: x[1])\n",
    "    \n",
    "    # I then create an empty list to store the recommended songs.\n",
    "    song = []\n",
    "    \n",
    "    # Now, for each song in my dataset, I'll go through the sorted list of similarity scores.\n",
    "    # The enumerate function provides me with both the index of the song and its similarity score.\n",
    "    # I'll skip the first one because it's the song itself (with a similarity score of 1).\n",
    "    for s_id in distance[1:6]:\n",
    "        # I add the song to my list of recommendations. I'm choosing the top 5 songs.\n",
    "        # This is done by looking up the song title by its index in the DataFrame.\n",
    "        song.append(df.iloc[s_id[0]].song)\n",
    "    \n",
    "    # Finally, I return the list of recommended songs back to the user.\n",
    "    return song\n",
    "\n",
    "# And Voila! It recommends me songs when I call this function with a song name!\n",
    "\n",
    "# Putting my recommender to the test with a sample song\n",
    "recommender(\"Come And Get It\")"
   ]
  },
  {
   "cell_type": "markdown",
   "id": "5e50732b",
   "metadata": {},
   "source": [
    "## Serialization\n",
    "\n",
    "Finally, I'm saving my work so I can easily use or share it later. This includes saving the similarity matrix and the processed DataFrame. It's important for deploying my recommendation system with the streamlit app that I going to show it! \n"
   ]
  },
  {
   "cell_type": "code",
   "execution_count": 77,
   "id": "05d2ac62",
   "metadata": {},
   "outputs": [],
   "source": [
    "# Using pickle to save my model and data\n",
    "import pickle\n",
    "\n",
    "# Saving the cosine similarity matrix and DataFrame\n",
    "pickle.dump(similar, open(\"similarity\", \"wb\"))\n",
    "pickle.dump(df, open(\"df\", \"wb\"))"
   ]
  },
  {
   "cell_type": "markdown",
   "id": "e083919b",
   "metadata": {},
   "source": [
    "## Reflection\n",
    "\n",
    "Reflecting back on this Double Diamond project so far, I've not only gained practical exprience in handling and analyzing large datasets but also deepened my understanding of how machine learning can be applied in the a specific domain in this case on Music. As I said even before, I start getting acquainted with the Spotify Million Song Dataset. \n",
    "\n",
    "I learned the various dimension of data, it's shape, missing values and information cotnanted within the outcomes of the proejct. Also the Data Wrangling taught me that the quality of the input data is significant. However the most useful aspect that I have specialized in this phase is building a small machine learning model using Natural Language Processing (NLP). Like diving into the tokenization and stemming helped me to see text not as text but as data point number that could be analyzed!\n",
    "\n",
    "Perhaps, understanding and implementing the cosine similarity was also interguining to me, especially like understanding the measure \"distance\" between songs. All in all, since my majors are in ICT learning about all thse technical aspect of machine learning is quite important! So I learned a lot so far but I want to improve that even more! "
   ]
  }
 ],
 "metadata": {
  "kernelspec": {
   "display_name": "Python 3 (ipykernel)",
   "language": "python",
   "name": "python3"
  },
  "language_info": {
   "codemirror_mode": {
    "name": "ipython",
    "version": 3
   },
   "file_extension": ".py",
   "mimetype": "text/x-python",
   "name": "python",
   "nbconvert_exporter": "python",
   "pygments_lexer": "ipython3",
   "version": "3.9.18"
  }
 },
 "nbformat": 4,
 "nbformat_minor": 5
}
